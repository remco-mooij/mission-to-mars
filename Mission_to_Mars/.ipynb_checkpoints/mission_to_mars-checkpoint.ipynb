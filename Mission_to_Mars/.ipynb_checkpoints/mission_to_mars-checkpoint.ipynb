{
 "cells": [
  {
   "cell_type": "code",
   "execution_count": 1,
   "metadata": {},
   "outputs": [],
   "source": [
    "# Dependencies\n",
    "from splinter import Browser\n",
    "from bs4 import BeautifulSoup\n",
    "import requests\n",
    "\n",
    "import pandas as pd"
   ]
  },
  {
   "cell_type": "code",
   "execution_count": 2,
   "metadata": {},
   "outputs": [],
   "source": [
    "executable_path = {'executable_path': 'chromedriver.exe'}\n",
    "browser = Browser('chrome', **executable_path, headless=False)"
   ]
  },
  {
   "cell_type": "markdown",
   "metadata": {},
   "source": [
    "### Mars News"
   ]
  },
  {
   "cell_type": "code",
   "execution_count": 3,
   "metadata": {},
   "outputs": [],
   "source": [
    "url = \"https://mars.nasa.gov/news/?page=0&per_page=40&order=publish_date+desc%2Ccreated_at+desc&search=&category=19%2C165%2C184%2C204&blank_scope=Latest\"\n",
    "\n",
    "#Visit page with Splinter module.\n",
    "browser.visit(url)\n",
    "\n",
    "# Create beautiful soup object\n",
    "html = browser.html\n",
    "soup = BeautifulSoup(html, 'html.parser')\n",
    "\n",
    "# Create BeautifulSoup object; parse with 'html.parser'\n",
    "soup = BeautifulSoup(html, 'html.parser')"
   ]
  },
  {
   "cell_type": "code",
   "execution_count": 4,
   "metadata": {},
   "outputs": [],
   "source": [
    "# extract news title and paragraph and store it in variables\n",
    "news_title = soup.find_all('div', class_=\"content_title\")[0].text.strip()\n",
    "news_p = soup.find_all('div', class_=\"rollover_description_inner\")[0].text.strip()"
   ]
  },
  {
   "cell_type": "markdown",
   "metadata": {},
   "source": [
    "### Featured Image"
   ]
  },
  {
   "cell_type": "code",
   "execution_count": 5,
   "metadata": {},
   "outputs": [],
   "source": [
    "# URL for JPL Mars Space Images.\n",
    "jpl_url = \"https://www.jpl.nasa.gov/spaceimages/?search=&category=Mars\"\n",
    "\n",
    "#Visit page with Splinter module.\n",
    "browser.visit(jpl_url)\n",
    "\n",
    "# Create beautiful soup object\n",
    "html = browser.html\n",
    "soup = BeautifulSoup(html, 'html.parser')"
   ]
  },
  {
   "cell_type": "code",
   "execution_count": 6,
   "metadata": {},
   "outputs": [
    {
     "data": {
      "text/plain": [
       "'/spaceimages/details.php?id=PIA14762'"
      ]
     },
     "execution_count": 6,
     "metadata": {},
     "output_type": "execute_result"
    }
   ],
   "source": [
    "# Find link of page where featured image is stored\n",
    "img_data_url = soup.footer.a[\"data-link\"]\n",
    "img_data_url"
   ]
  },
  {
   "cell_type": "code",
   "execution_count": 7,
   "metadata": {},
   "outputs": [],
   "source": [
    "# Go to image data page using Splinter\n",
    "base_url = 'https://www.jpl.nasa.gov'\n",
    "browser.visit(base_url + img_data_url)\n",
    "\n",
    "# Create new beautiful soup object\n",
    "html = browser.html\n",
    "soup = BeautifulSoup(html, 'html.parser')\n",
    "\n",
    "# find full size image URL and store it in variable\n",
    "result = soup.find_all('figure', class_='lede')[0]\n",
    "img_url = result.a['href']"
   ]
  },
  {
   "cell_type": "code",
   "execution_count": 8,
   "metadata": {},
   "outputs": [
    {
     "data": {
      "text/plain": [
       "'https://www.jpl.nasa.gov/spaceimages/images/largesize/PIA14762_hires.jpg'"
      ]
     },
     "execution_count": 8,
     "metadata": {},
     "output_type": "execute_result"
    }
   ],
   "source": [
    "featured_image_url = base_url + img_url\n",
    "featured_image_url"
   ]
  },
  {
   "cell_type": "markdown",
   "metadata": {},
   "source": [
    "### Mars Weather"
   ]
  },
  {
   "cell_type": "code",
   "execution_count": 9,
   "metadata": {
    "scrolled": false
   },
   "outputs": [],
   "source": [
    "twitter_url = \"https://twitter.com/marswxreport?lang=en\""
   ]
  },
  {
   "cell_type": "code",
   "execution_count": 10,
   "metadata": {},
   "outputs": [],
   "source": [
    "browser.visit(twitter_url)"
   ]
  },
  {
   "cell_type": "code",
   "execution_count": 11,
   "metadata": {},
   "outputs": [],
   "source": [
    "# Function to convert a list to a string,\n",
    "# url: https://www.geeksforgeeks.org/python-program-to-convert-a-list-to-string/\n",
    "def listToString(list):  \n",
    "    \n",
    "    # initialize an empty string \n",
    "    str1 = \" \" \n",
    "    \n",
    "    # return string   \n",
    "    return (str1.join(list)) "
   ]
  },
  {
   "cell_type": "code",
   "execution_count": 12,
   "metadata": {},
   "outputs": [],
   "source": [
    "tweet_list = browser.find_by_css('div > div > div > span')\n",
    "list_of_lists = []"
   ]
  },
  {
   "cell_type": "code",
   "execution_count": 13,
   "metadata": {},
   "outputs": [
    {
     "name": "stdout",
     "output_type": "stream",
     "text": [
      "\n"
     ]
    }
   ],
   "source": [
    "# get data from Spliner element\n",
    "for i in tweet_list:\n",
    "    twitter_data = i.text\n",
    "    print(twitter_data)\n",
    "    data_converted = twitter_data.split('·')\n",
    "    list_of_lists.append(data_converted)\n"
   ]
  },
  {
   "cell_type": "code",
   "execution_count": 14,
   "metadata": {
    "scrolled": true
   },
   "outputs": [
    {
     "data": {
      "text/plain": [
       "['']"
      ]
     },
     "execution_count": 14,
     "metadata": {},
     "output_type": "execute_result"
    }
   ],
   "source": [
    "# Get Splinter element containing tweets\n",
    "tweet_list = browser.find_by_css('div > div > div > span')\n",
    "\n",
    "list_of_lists = []\n",
    "\n",
    "# get data from Spliner element\n",
    "for i in tweet_list:\n",
    "    twitter_data = i.text\n",
    "    data_converted = twitter_data.split('·')\n",
    "    list_of_lists.append(data_converted)\n",
    "    \n",
    "# Convert list of lists to text string and get list of tweets\n",
    "tweet_data = [''.join(x) for x in list_of_lists]\n",
    "tweet_data = listToString(tweet_data)\n",
    "tweet_list = tweet_data.split(\"@MarsWxReport\")\n",
    "\n",
    "tweet_list"
   ]
  },
  {
   "cell_type": "code",
   "execution_count": 15,
   "metadata": {
    "scrolled": true
   },
   "outputs": [
    {
     "ename": "IndexError",
     "evalue": "list index out of range",
     "output_type": "error",
     "traceback": [
      "\u001b[1;31m---------------------------------------------------------------------------\u001b[0m",
      "\u001b[1;31mIndexError\u001b[0m                                Traceback (most recent call last)",
      "\u001b[1;32m<ipython-input-15-e1de71ed8d37>\u001b[0m in \u001b[0;36m<module>\u001b[1;34m\u001b[0m\n\u001b[0;32m      1\u001b[0m \u001b[1;31m# Find the most recent tweet and remove '\\n' characters\u001b[0m\u001b[1;33m\u001b[0m\u001b[1;33m\u001b[0m\u001b[1;33m\u001b[0m\u001b[0m\n\u001b[1;32m----> 2\u001b[1;33m \u001b[0mmars_weather\u001b[0m \u001b[1;33m=\u001b[0m \u001b[0mtweet_list\u001b[0m\u001b[1;33m[\u001b[0m\u001b[1;36m2\u001b[0m\u001b[1;33m]\u001b[0m\u001b[1;33m.\u001b[0m\u001b[0mstrip\u001b[0m\u001b[1;33m(\u001b[0m\u001b[1;33m)\u001b[0m\u001b[1;33m\u001b[0m\u001b[1;33m\u001b[0m\u001b[0m\n\u001b[0m\u001b[0;32m      3\u001b[0m \u001b[1;33m\u001b[0m\u001b[0m\n\u001b[0;32m      4\u001b[0m \u001b[0mmars_weather\u001b[0m \u001b[1;33m=\u001b[0m \u001b[0mmars_weather\u001b[0m\u001b[1;33m.\u001b[0m\u001b[0mreplace\u001b[0m\u001b[1;33m(\u001b[0m\u001b[1;34m'\\n'\u001b[0m\u001b[1;33m,\u001b[0m \u001b[1;34m\" \"\u001b[0m\u001b[1;33m)\u001b[0m\u001b[1;33m\u001b[0m\u001b[1;33m\u001b[0m\u001b[0m\n\u001b[0;32m      5\u001b[0m \u001b[1;33m\u001b[0m\u001b[0m\n",
      "\u001b[1;31mIndexError\u001b[0m: list index out of range"
     ]
    }
   ],
   "source": [
    "# Find the most recent tweet and remove '\\n' characters\n",
    "mars_weather = tweet_list[2].strip()\n",
    "\n",
    "mars_weather = mars_weather.replace('\\n', \" \")\n",
    "\n",
    "mars_weather"
   ]
  },
  {
   "cell_type": "markdown",
   "metadata": {},
   "source": [
    "### Mars Facts"
   ]
  },
  {
   "cell_type": "code",
   "execution_count": null,
   "metadata": {},
   "outputs": [],
   "source": [
    "facts_url = \"https://space-facts.com/mars/\"\n",
    "\n",
    "#Visit page with Splinter module.\n",
    "browser.visit(facts_url)\n",
    "\n",
    "# Create beautiful soup object\n",
    "html = browser.html\n",
    "soup = BeautifulSoup(html, 'html.parser')"
   ]
  },
  {
   "cell_type": "code",
   "execution_count": null,
   "metadata": {},
   "outputs": [],
   "source": [
    "# Get html of table \n",
    "html_table = soup.find(\"table\", id=\"tablepress-p-mars-no-2\")\n",
    "html_table\n",
    "# # Create dataframe\n",
    "# table = pd.read_html(str(html_table))[0]\n",
    "\n",
    "# table"
   ]
  },
  {
   "cell_type": "markdown",
   "metadata": {},
   "source": [
    "### Mars Hemispheres"
   ]
  },
  {
   "cell_type": "code",
   "execution_count": null,
   "metadata": {},
   "outputs": [],
   "source": [
    "hemi_url = \"https://astrogeology.usgs.gov/search/results?q=hemisphere+enhanced&k1=target&v1=Mars\"\n",
    "\n",
    "#Visit page with Splinter module.\n",
    "browser.visit(hemi_url)\n",
    "\n",
    "# Create beautiful soup object\n",
    "html = browser.html\n",
    "soup = BeautifulSoup(html, 'html.parser')\n",
    "\n",
    "\n"
   ]
  },
  {
   "cell_type": "code",
   "execution_count": null,
   "metadata": {},
   "outputs": [],
   "source": [
    "results = soup.find_all('a', class_=\"itemLink product-item\")\n",
    "results"
   ]
  },
  {
   "cell_type": "code",
   "execution_count": null,
   "metadata": {},
   "outputs": [],
   "source": [
    "links = []\n",
    "\n",
    "# Loop through results and extract links for each image\n",
    "for i in results:\n",
    "    try:\n",
    "        link = i.find_all('h3')\n",
    "        links.append(link)\n",
    "    except AttributeError as e:\n",
    "        print(e)\n",
    "\n",
    "link1 = links[1][0].text.strip()\n",
    "link2 = links[3][0].text.strip()\n",
    "link3 = links[5][0].text.strip()\n",
    "link4 = links[7][0].text.strip()"
   ]
  },
  {
   "cell_type": "code",
   "execution_count": null,
   "metadata": {},
   "outputs": [],
   "source": [
    "# Find img url #1\n",
    "browser.find_by_text(link1).click()\n",
    "html = browser.html\n",
    "soup = BeautifulSoup(html, 'html.parser')\n",
    "img_url1 = soup.li.a['href']\n",
    "print(img_url1)\n",
    "browser.visit(hemi_url)\n",
    "\n",
    "# Find img url #2\n",
    "browser.find_by_text(link2).click()\n",
    "html = browser.html\n",
    "soup = BeautifulSoup(html, 'html.parser')\n",
    "img_url2 = soup.li.a['href']\n",
    "print(img_url2)\n",
    "browser.visit(hemi_url)\n",
    "\n",
    "# Find img url #3\n",
    "browser.find_by_text(link3).click()\n",
    "html = browser.html\n",
    "soup = BeautifulSoup(html, 'html.parser')\n",
    "img_url3 = soup.li.a['href']\n",
    "print(img_url3)\n",
    "browser.visit(hemi_url)\n",
    "\n",
    "# Find img url #4\n",
    "browser.find_by_text(link4).click()\n",
    "html = browser.html\n",
    "soup = BeautifulSoup(html, 'html.parser')\n",
    "img_url4 = soup.li.a['href']\n",
    "print(img_url4)\n",
    "browser.visit(hemi_url)\n"
   ]
  },
  {
   "cell_type": "code",
   "execution_count": null,
   "metadata": {},
   "outputs": [],
   "source": [
    "title1 = link1.replace(\" Enhanced\", \"\")\n",
    "title2 = link2.replace(\" Enhanced\", \"\")\n",
    "title3 = link3.replace(\" Enhanced\", \"\")\n",
    "title4 = link4.replace(\" Enhanced\", \"\")\n",
    "\n",
    "hemisphere_image_urls = [\n",
    "    {\"title\": title1, \"img_url\": img_url1},\n",
    "    {\"title\": title2, \"img_url\": img_url2},\n",
    "    {\"title\": title3, \"img_url\": img_url3},\n",
    "    {\"title\": title4, \"img_url\": img_url4}\n",
    "]\n",
    "\n",
    "hemisphere_image_urls"
   ]
  },
  {
   "cell_type": "code",
   "execution_count": 16,
   "metadata": {},
   "outputs": [],
   "source": [
    "def scrape(news_url, featured_img_url, twitter_url, facts_url, hemi_url):\n",
    "    \n",
    "    # 1. Find news title and paragraph\n",
    "    browser.visit(news_url)\n",
    "    html = browser.html\n",
    "    soup = BeautifulSoup(html, 'html.parser')\n",
    "    \n",
    "    # title and paragraph strings:\n",
    "    news_title = soup.find_all('div', class_=\"content_title\")[0].text.strip()\n",
    "    news_p = soup.find_all('div', class_=\"rollover_description_inner\")[0].text.strip()\n",
    "    \n",
    "    # 2. Find featured image url\n",
    "    browser.visit(featured_img_url)\n",
    "    html = browser.html\n",
    "    soup = BeautifulSoup(html, 'html.parser')\n",
    "    img_data_url = soup.footer.a[\"data-link\"]\n",
    "    base_url = 'https://www.jpl.nasa.gov'\n",
    "    browser.visit(base_url + img_data_url)\n",
    "    html = browser.html\n",
    "    soup = BeautifulSoup(html, 'html.parser')\n",
    "    result = soup.find_all('figure', class_='lede')[0]\n",
    "    img_url = result.a['href']\n",
    "    \n",
    "    # featured_img_url string:\n",
    "    featured_image_url = base_url + img_url\n",
    "    \n",
    "#     # 3. Find weather tweet\n",
    "#     browser.visit(twitter_url)\n",
    "#     # Function to convert a list to a string,\n",
    "#     # url: https://www.geeksforgeeks.org/python-program-to-convert-a-list-to-string/\n",
    "#     def listToString(list):  \n",
    "#         str1 = \" \" \n",
    "#         return (str1.join(list)) \n",
    "    \n",
    "#     tweet_list = browser.find_by_css('div > div > div > span')\n",
    "#     list_of_lists = []\n",
    "#     for i in tweet_list:\n",
    "#         twitter_data = i.text\n",
    "#         data_converted = twitter_data.split('·')\n",
    "#         list_of_lists.append(data_converted)\n",
    "#     tweet_data = [''.join(x) for x in list_of_lists]\n",
    "#     tweet_data = listToString(tweet_data)\n",
    "#     tweet_list = tweet_data.split(\"@MarsWxReport\")\n",
    "    \n",
    "#     # tweet string:\n",
    "#     mars_weather = tweet_list[2].strip().replace('\\n', \" \")\n",
    "    \n",
    "    # 4. Find Mars facts\n",
    "    browser.visit(facts_url)\n",
    "    html = browser.html\n",
    "    soup = BeautifulSoup(html, 'html.parser')\n",
    "    \n",
    "    # html table:\n",
    "    html_table = soup.find(\"table\", id=\"tablepress-p-mars-no-2\")\n",
    "    \n",
    "    # 5. Find hemispheres image urls\n",
    "    browser.visit(hemi_url)\n",
    "    html = browser.html\n",
    "    soup = BeautifulSoup(html, 'html.parser')\n",
    "    results = soup.find_all('a', class_=\"itemLink product-item\")\n",
    "    links = []\n",
    "    for i in results:\n",
    "        try:\n",
    "            link = i.find_all('h3')\n",
    "            links.append(link)\n",
    "        except AttributeError as e:\n",
    "            print(e)\n",
    "\n",
    "    link1 = links[1][0].text.strip()\n",
    "    link2 = links[3][0].text.strip()\n",
    "    link3 = links[5][0].text.strip()\n",
    "    link4 = links[7][0].text.strip()\n",
    "\n",
    "    browser.find_by_text(link1).click()\n",
    "    html = browser.html\n",
    "    soup = BeautifulSoup(html, 'html.parser')\n",
    "    img_url1 = soup.li.a['href']\n",
    "    browser.visit(hemi_url)\n",
    "\n",
    "    browser.find_by_text(link2).click()\n",
    "    html = browser.html\n",
    "    soup = BeautifulSoup(html, 'html.parser')\n",
    "    img_url2 = soup.li.a['href']\n",
    "    browser.visit(hemi_url)\n",
    "\n",
    "    browser.find_by_text(link3).click()\n",
    "    html = browser.html\n",
    "    soup = BeautifulSoup(html, 'html.parser')\n",
    "    img_url3 = soup.li.a['href']\n",
    "    browser.visit(hemi_url)\n",
    "\n",
    "    browser.find_by_text(link4).click()\n",
    "    html = browser.html\n",
    "    soup = BeautifulSoup(html, 'html.parser')\n",
    "    img_url4 = soup.li.a['href']\n",
    "    browser.visit(hemi_url)\n",
    "    \n",
    "    title1 = link1.replace(\" Enhanced\", \"\")\n",
    "    title2 = link2.replace(\" Enhanced\", \"\")\n",
    "    title3 = link3.replace(\" Enhanced\", \"\")\n",
    "    title4 = link4.replace(\" Enhanced\", \"\")\n",
    "\n",
    "    # dictionary with hemisphere titles and urls:\n",
    "    hemisphere_image_urls = [\n",
    "        {\"title\": title1, \"img_url\": img_url1},\n",
    "        {\"title\": title2, \"img_url\": img_url2},\n",
    "        {\"title\": title3, \"img_url\": img_url3},\n",
    "        {\"title\": title4, \"img_url\": img_url4}\n",
    "    ]\n",
    "\n",
    "    dictionary = {\n",
    "        'featured_image_url': featured_image_url,\n",
    "#         'mars_weather': mars_weather,\n",
    "        'mars_facts': html_table,\n",
    "        'mars_hemispheres': hemisphere_image_urls\n",
    "    }\n",
    "    \n",
    "    return dictionary"
   ]
  },
  {
   "cell_type": "code",
   "execution_count": 17,
   "metadata": {},
   "outputs": [
    {
     "data": {
      "text/plain": [
       "{'featured_image_url': 'https://www.jpl.nasa.gov/spaceimages/images/largesize/PIA14762_hires.jpg',\n",
       " 'mars_facts': <table class=\"tablepress tablepress-id-p-mars\" id=\"tablepress-p-mars-no-2\"><tbody><tr class=\"row-1 odd\"><td class=\"column-1\"><strong>Equatorial Diameter:</strong></td><td class=\"column-2\">6,792 km<br/></td></tr><tr class=\"row-2 even\"><td class=\"column-1\"><strong>Polar Diameter:</strong></td><td class=\"column-2\">6,752 km<br/></td></tr><tr class=\"row-3 odd\"><td class=\"column-1\"><strong>Mass:</strong></td><td class=\"column-2\">6.39 × 10^23 kg<br/> (0.11 Earths)</td></tr><tr class=\"row-4 even\"><td class=\"column-1\"><strong>Moons:</strong></td><td class=\"column-2\">2 (<a href=\"https://space-facts.com/moons/phobos/\">Phobos</a> &amp; <a href=\"https://space-facts.com/moons/deimos/\">Deimos</a>)</td></tr><tr class=\"row-5 odd\"><td class=\"column-1\"><strong>Orbit Distance:</strong></td><td class=\"column-2\">227,943,824 km<br/> (1.38 AU)</td></tr><tr class=\"row-6 even\"><td class=\"column-1\"><strong>Orbit Period:</strong></td><td class=\"column-2\">687 days (1.9 years)<br/></td></tr><tr class=\"row-7 odd\"><td class=\"column-1\"><strong>Surface Temperature: </strong></td><td class=\"column-2\">-87 to -5 °C</td></tr><tr class=\"row-8 even\"><td class=\"column-1\"><strong>First Record:</strong></td><td class=\"column-2\">2nd millennium BC</td></tr><tr class=\"row-9 odd\"><td class=\"column-1\"><strong>Recorded By:</strong></td><td class=\"column-2\">Egyptian astronomers</td></tr></tbody></table>,\n",
       " 'mars_hemispheres': [{'title': 'Cerberus Hemisphere',\n",
       "   'img_url': 'http://astropedia.astrogeology.usgs.gov/download/Mars/Viking/cerberus_enhanced.tif/full.jpg'},\n",
       "  {'title': 'Schiaparelli Hemisphere',\n",
       "   'img_url': 'http://astropedia.astrogeology.usgs.gov/download/Mars/Viking/schiaparelli_enhanced.tif/full.jpg'},\n",
       "  {'title': 'Syrtis Major Hemisphere',\n",
       "   'img_url': 'http://astropedia.astrogeology.usgs.gov/download/Mars/Viking/syrtis_major_enhanced.tif/full.jpg'},\n",
       "  {'title': 'Valles Marineris Hemisphere',\n",
       "   'img_url': 'http://astropedia.astrogeology.usgs.gov/download/Mars/Viking/valles_marineris_enhanced.tif/full.jpg'}]}"
      ]
     },
     "execution_count": 17,
     "metadata": {},
     "output_type": "execute_result"
    }
   ],
   "source": [
    "news_url = \"https://mars.nasa.gov/news/?page=0&per_page=40&order=publish_date+desc%2Ccreated_at+desc&search=&category=19%2C165%2C184%2C204&blank_scope=Latest\"\n",
    "featured_img_url = \"https://www.jpl.nasa.gov/spaceimages/?search=&category=Mars\"\n",
    "twitter_url = \"https://twitter.com/marswxreport?lang=en\"\n",
    "facts_url = \"https://space-facts.com/mars/\"\n",
    "hemi_url = \"https://astrogeology.usgs.gov/search/results?q=hemisphere+enhanced&k1=target&v1=Mars\"\n",
    "\n",
    "scrape(news_url, featured_img_url, twitter_url, facts_url, hemi_url)\n"
   ]
  },
  {
   "cell_type": "code",
   "execution_count": null,
   "metadata": {},
   "outputs": [],
   "source": []
  }
 ],
 "metadata": {
  "kernelspec": {
   "display_name": "Python 3",
   "language": "python",
   "name": "python3"
  },
  "language_info": {
   "codemirror_mode": {
    "name": "ipython",
    "version": 3
   },
   "file_extension": ".py",
   "mimetype": "text/x-python",
   "name": "python",
   "nbconvert_exporter": "python",
   "pygments_lexer": "ipython3",
   "version": "3.6.9"
  }
 },
 "nbformat": 4,
 "nbformat_minor": 2
}
